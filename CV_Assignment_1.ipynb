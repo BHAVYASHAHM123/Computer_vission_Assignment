{
  "nbformat": 4,
  "nbformat_minor": 0,
  "metadata": {
    "colab": {
      "provenance": [],
      "authorship_tag": "ABX9TyMFQ1lI2ErIGn81Qpse8qOe",
      "include_colab_link": true
    },
    "kernelspec": {
      "name": "python3",
      "display_name": "Python 3"
    },
    "language_info": {
      "name": "python"
    }
  },
  "cells": [
    {
      "cell_type": "markdown",
      "metadata": {
        "id": "view-in-github",
        "colab_type": "text"
      },
      "source": [
        "<a href=\"https://colab.research.google.com/github/BHAVYASHAHM123/Computer_vission_Assignment/blob/main/CV_Assignment_1.ipynb\" target=\"_parent\"><img src=\"https://colab.research.google.com/assets/colab-badge.svg\" alt=\"Open In Colab\"/></a>"
      ]
    },
    {
      "cell_type": "markdown",
      "source": [
        "Q1). What exactly is a feature?\n",
        "\n",
        "Ans) In computer vision and image processing, a feature is a piece of information about the content of an image."
      ],
      "metadata": {
        "id": "Et8-iUEG8p37"
      }
    },
    {
      "cell_type": "markdown",
      "source": [
        "Q2). For a top edge detector, write out the convolutional kernel matrix.\n",
        "\n",
        "Ans) Edge detection is the task of identifying object boundaries within a still image."
      ],
      "metadata": {
        "id": "WLRjfuhi9Gdz"
      }
    },
    {
      "cell_type": "markdown",
      "source": [
        "Q3). Describe the mathematical operation that a 3x3 kernel performs on a single pixel in an image.\n",
        "\n",
        "Ans) Blur, sharp the image."
      ],
      "metadata": {
        "id": "CqL0-djv9XHJ"
      }
    },
    {
      "cell_type": "markdown",
      "source": [
        "Q4). What exactly is padding?\n",
        "\n",
        "Ans) Padding is simply a process of adding layers of zeros to our input images so as to avoid the problems of dimention of input and output"
      ],
      "metadata": {
        "id": "mAewhCRS9_Jx"
      }
    },
    {
      "cell_type": "markdown",
      "source": [
        "Q6). What is the concept of stride?\n",
        "\n",
        "Ans) Number of steps move on the input value or pixel."
      ],
      "metadata": {
        "id": "dnHqKg4w-_jG"
      }
    },
    {
      "cell_type": "markdown",
      "source": [
        "Q8). What exactly is a channel?\n",
        "\n",
        "Ans) Channel is the thing where the the pixel value is high so that the image is created and displayed"
      ],
      "metadata": {
        "id": "HbkeJr6A_Mjv"
      }
    },
    {
      "cell_type": "markdown",
      "source": [
        "Q9).Explain relationship between matrix multiplication and a convolution?\n",
        "\n",
        "Ans) There is no difference between the matrix and convolution cuz matrix multiplication starts from the left top corner and ends at right bottom corner .\n",
        "Same way in the convolution pixel multiplication happens. "
      ],
      "metadata": {
        "id": "SK2R-Uw7_8pe"
      }
    },
    {
      "cell_type": "code",
      "execution_count": null,
      "metadata": {
        "id": "NggJ3B8F8YxD"
      },
      "outputs": [],
      "source": []
    }
  ]
}